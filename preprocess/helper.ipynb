{
 "cells": [
  {
   "cell_type": "code",
   "execution_count": null,
   "metadata": {},
   "outputs": [],
   "source": [
    "import pandas as pd\n",
    "import pyarrow.parquet as pq\n",
    "import matplotlib.pyplot as plt\n",
    "import numpy as np\n"
   ]
  },
  {
   "cell_type": "code",
   "execution_count": null,
   "metadata": {},
   "outputs": [],
   "source": [
    "# Read a Parquet file into an Arrow Table\n",
    "table = pq.read_table(\"/work/tfluehma/git/SSNF_byT/preprocess/data_eb_train.parquet\")\n",
    "\n",
    "# Convert the Arrow Table to a Pandas DataFrame\n",
    "df = table.to_pandas()\n",
    "\n",
    "# Now you can work with the data in the DataFrame\n",
    "print(df.head())\n",
    "keys = df.columns\n",
    "print(df[keys[0]])\n",
    "plt.figure()\n",
    "plt.hist(df[keys[0]])\n",
    "plt.show()"
   ]
  }
 ],
 "metadata": {
  "language_info": {
   "name": "python"
  }
 },
 "nbformat": 4,
 "nbformat_minor": 2
}
